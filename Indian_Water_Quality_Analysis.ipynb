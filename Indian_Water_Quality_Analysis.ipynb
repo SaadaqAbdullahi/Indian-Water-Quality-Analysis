{
  "nbformat": 4,
  "nbformat_minor": 0,
  "metadata": {
    "colab": {
      "name": "Indian_Water_Quality_Analysis.ipynb",
      "provenance": [],
      "collapsed_sections": []
    },
    "kernelspec": {
      "name": "python3",
      "display_name": "Python 3"
    }
  },
  "cells": [
    {
      "cell_type": "markdown",
      "metadata": {
        "id": "efwhrOsbwB8R"
      },
      "source": [
        "#**Indian Water Quality Analysis Assignment**\n",
        "#Written By: Saadaq Abdullahi"
      ]
    },
    {
      "cell_type": "code",
      "metadata": {
        "id": "GLb2ZePHDPk4"
      },
      "source": [
        "import pandas as pd\n",
        "import numpy as np\n",
        "import seaborn as sns\n",
        "import matplotlib.pyplot as plt\n",
        "import os\n",
        "%matplotlib inline\n"
      ],
      "execution_count": null,
      "outputs": []
    },
    {
      "cell_type": "code",
      "metadata": {
        "id": "SgIO-kiYnmzN",
        "colab": {
          "base_uri": "https://localhost:8080/",
          "height": 531
        },
        "outputId": "3bbd86b0-1c8d-44e8-deda-55841070186e"
      },
      "source": [
        "\n",
        "df = pd.read_csv('water_quality_data2.csv')\n",
        "df=df.rename(columns={'STATION CODE':'STATION_CODE','NITRATENAN N+ NITRITENAN':'NITRATE_LEVEL', 'FECAL COLIFORM':'FECAL_COLIFORM','TOTAL COLIFORM':'TOTAL_COLIFORM'})\n",
        "df.head(15)"
      ],
      "execution_count": null,
      "outputs": [
        {
          "output_type": "execute_result",
          "data": {
            "text/html": [
              "<div>\n",
              "<style scoped>\n",
              "    .dataframe tbody tr th:only-of-type {\n",
              "        vertical-align: middle;\n",
              "    }\n",
              "\n",
              "    .dataframe tbody tr th {\n",
              "        vertical-align: top;\n",
              "    }\n",
              "\n",
              "    .dataframe thead th {\n",
              "        text-align: right;\n",
              "    }\n",
              "</style>\n",
              "<table border=\"1\" class=\"dataframe\">\n",
              "  <thead>\n",
              "    <tr style=\"text-align: right;\">\n",
              "      <th></th>\n",
              "      <th>STATION_CODE</th>\n",
              "      <th>LOCATIONS</th>\n",
              "      <th>STATE</th>\n",
              "      <th>TEMP</th>\n",
              "      <th>D.O.</th>\n",
              "      <th>PH</th>\n",
              "      <th>CONDUCTIVITY</th>\n",
              "      <th>B.O.D</th>\n",
              "      <th>NITRATE_LEVEL</th>\n",
              "      <th>FECAL_COLIFORM</th>\n",
              "      <th>TOTAL_COLIFORM</th>\n",
              "      <th>YEAR</th>\n",
              "    </tr>\n",
              "  </thead>\n",
              "  <tbody>\n",
              "    <tr>\n",
              "      <th>0</th>\n",
              "      <td>1399</td>\n",
              "      <td>ZUARI AT D/S OF PT. WHERE KUMBARJRIA CANAL JOI...</td>\n",
              "      <td>GOA</td>\n",
              "      <td>29.8</td>\n",
              "      <td>5.7</td>\n",
              "      <td>7.2</td>\n",
              "      <td>189</td>\n",
              "      <td>2.0</td>\n",
              "      <td>0.2</td>\n",
              "      <td>4953</td>\n",
              "      <td>8391</td>\n",
              "      <td>2014</td>\n",
              "    </tr>\n",
              "    <tr>\n",
              "      <th>1</th>\n",
              "      <td>1475</td>\n",
              "      <td>ZUARI AT PANCHAWADI</td>\n",
              "      <td>GOA</td>\n",
              "      <td>29.5</td>\n",
              "      <td>6.3</td>\n",
              "      <td>6.9</td>\n",
              "      <td>179</td>\n",
              "      <td>1.7</td>\n",
              "      <td>0.1</td>\n",
              "      <td>3243</td>\n",
              "      <td>5330</td>\n",
              "      <td>2014</td>\n",
              "    </tr>\n",
              "    <tr>\n",
              "      <th>2</th>\n",
              "      <td>3181</td>\n",
              "      <td>RIVER ZUARI AT BORIM BRIDGE</td>\n",
              "      <td>GOA</td>\n",
              "      <td>29.7</td>\n",
              "      <td>5.8</td>\n",
              "      <td>6.9</td>\n",
              "      <td>64</td>\n",
              "      <td>3.8</td>\n",
              "      <td>0.5</td>\n",
              "      <td>5382</td>\n",
              "      <td>8443</td>\n",
              "      <td>2014</td>\n",
              "    </tr>\n",
              "    <tr>\n",
              "      <th>3</th>\n",
              "      <td>3182</td>\n",
              "      <td>RIVER ZUARI AT MARCAIM JETTY</td>\n",
              "      <td>GOA</td>\n",
              "      <td>29.5</td>\n",
              "      <td>5.8</td>\n",
              "      <td>7.3</td>\n",
              "      <td>83</td>\n",
              "      <td>1.9</td>\n",
              "      <td>0.4</td>\n",
              "      <td>3428</td>\n",
              "      <td>5500</td>\n",
              "      <td>2014</td>\n",
              "    </tr>\n",
              "    <tr>\n",
              "      <th>4</th>\n",
              "      <td>1400</td>\n",
              "      <td>MANDOVI AT NEGHBOURHOOD OF PANAJI, GOA</td>\n",
              "      <td>GOA</td>\n",
              "      <td>30.0</td>\n",
              "      <td>5.5</td>\n",
              "      <td>7.4</td>\n",
              "      <td>81</td>\n",
              "      <td>1.5</td>\n",
              "      <td>0.1</td>\n",
              "      <td>2853</td>\n",
              "      <td>4049</td>\n",
              "      <td>2014</td>\n",
              "    </tr>\n",
              "    <tr>\n",
              "      <th>5</th>\n",
              "      <td>1476</td>\n",
              "      <td>MANDOVI AT TONCA, MARCELA, GOA</td>\n",
              "      <td>GOA</td>\n",
              "      <td>29.2</td>\n",
              "      <td>6.1</td>\n",
              "      <td>6.7</td>\n",
              "      <td>308</td>\n",
              "      <td>1.4</td>\n",
              "      <td>0.3</td>\n",
              "      <td>3355</td>\n",
              "      <td>5672</td>\n",
              "      <td>2014</td>\n",
              "    </tr>\n",
              "    <tr>\n",
              "      <th>6</th>\n",
              "      <td>3185</td>\n",
              "      <td>RIVER MANDOVI AT AMONA BRIDGE</td>\n",
              "      <td>GOA</td>\n",
              "      <td>29.6</td>\n",
              "      <td>6.4</td>\n",
              "      <td>6.7</td>\n",
              "      <td>414</td>\n",
              "      <td>1.0</td>\n",
              "      <td>0.2</td>\n",
              "      <td>6073</td>\n",
              "      <td>9423</td>\n",
              "      <td>2014</td>\n",
              "    </tr>\n",
              "    <tr>\n",
              "      <th>7</th>\n",
              "      <td>3186</td>\n",
              "      <td>RIVER MANDOVI AT IFFI JETTY</td>\n",
              "      <td>GOA</td>\n",
              "      <td>30.0</td>\n",
              "      <td>6.4</td>\n",
              "      <td>7.6</td>\n",
              "      <td>305</td>\n",
              "      <td>2.2</td>\n",
              "      <td>0.1</td>\n",
              "      <td>3478</td>\n",
              "      <td>4990</td>\n",
              "      <td>2014</td>\n",
              "    </tr>\n",
              "    <tr>\n",
              "      <th>8</th>\n",
              "      <td>3187</td>\n",
              "      <td>RIVER MANDOVI NEAR HOTEL MARRIOT</td>\n",
              "      <td>GOA</td>\n",
              "      <td>30.1</td>\n",
              "      <td>6.3</td>\n",
              "      <td>7.6</td>\n",
              "      <td>77</td>\n",
              "      <td>2.3</td>\n",
              "      <td>0.1</td>\n",
              "      <td>2606</td>\n",
              "      <td>4301</td>\n",
              "      <td>2014</td>\n",
              "    </tr>\n",
              "    <tr>\n",
              "      <th>9</th>\n",
              "      <td>1543</td>\n",
              "      <td>RIVER KALNA AT CHANDELNAN PERNEM, GOA</td>\n",
              "      <td>GOA</td>\n",
              "      <td>27.8</td>\n",
              "      <td>7.1</td>\n",
              "      <td>7.1</td>\n",
              "      <td>176</td>\n",
              "      <td>1.2</td>\n",
              "      <td>0.1</td>\n",
              "      <td>4573</td>\n",
              "      <td>7817</td>\n",
              "      <td>2014</td>\n",
              "    </tr>\n",
              "    <tr>\n",
              "      <th>10</th>\n",
              "      <td>1548</td>\n",
              "      <td>RIVER ASSONORA AT ASSONORA, GOA</td>\n",
              "      <td>GOA</td>\n",
              "      <td>27.9</td>\n",
              "      <td>6.7</td>\n",
              "      <td>6.4</td>\n",
              "      <td>93</td>\n",
              "      <td>1.4</td>\n",
              "      <td>0.1</td>\n",
              "      <td>2147</td>\n",
              "      <td>3433</td>\n",
              "      <td>2014</td>\n",
              "    </tr>\n",
              "    <tr>\n",
              "      <th>11</th>\n",
              "      <td>2276</td>\n",
              "      <td>RIVER BICHOLIM VARAZAN NAGAR , BICHOLIM</td>\n",
              "      <td>GOA</td>\n",
              "      <td>29.3</td>\n",
              "      <td>7.4</td>\n",
              "      <td>6.8</td>\n",
              "      <td>121</td>\n",
              "      <td>1.7</td>\n",
              "      <td>0.4</td>\n",
              "      <td>11633</td>\n",
              "      <td>18125</td>\n",
              "      <td>2014</td>\n",
              "    </tr>\n",
              "    <tr>\n",
              "      <th>12</th>\n",
              "      <td>2275</td>\n",
              "      <td>RIVER CHAPORA NEAR ALORNA FORT ,PERNEM</td>\n",
              "      <td>GOA</td>\n",
              "      <td>29.2</td>\n",
              "      <td>6.9</td>\n",
              "      <td>7.0</td>\n",
              "      <td>620</td>\n",
              "      <td>1.1</td>\n",
              "      <td>0.1</td>\n",
              "      <td>3500</td>\n",
              "      <td>6300</td>\n",
              "      <td>2014</td>\n",
              "    </tr>\n",
              "    <tr>\n",
              "      <th>13</th>\n",
              "      <td>3189</td>\n",
              "      <td>RIVER CHAPORA AT SIOLIM</td>\n",
              "      <td>GOA</td>\n",
              "      <td>30.0</td>\n",
              "      <td>6.0</td>\n",
              "      <td>7.5</td>\n",
              "      <td>72</td>\n",
              "      <td>1.6</td>\n",
              "      <td>0.2</td>\n",
              "      <td>4995</td>\n",
              "      <td>9517</td>\n",
              "      <td>2014</td>\n",
              "    </tr>\n",
              "    <tr>\n",
              "      <th>14</th>\n",
              "      <td>1546</td>\n",
              "      <td>RIVER KHANDEPAR AT OPA NAN PONDA, GOA</td>\n",
              "      <td>GOA</td>\n",
              "      <td>29.0</td>\n",
              "      <td>7.3</td>\n",
              "      <td>7.0</td>\n",
              "      <td>247</td>\n",
              "      <td>1.5</td>\n",
              "      <td>0.2</td>\n",
              "      <td>1095</td>\n",
              "      <td>2453</td>\n",
              "      <td>2014</td>\n",
              "    </tr>\n",
              "  </tbody>\n",
              "</table>\n",
              "</div>"
            ],
            "text/plain": [
              "    STATION_CODE  ...  YEAR\n",
              "0           1399  ...  2014\n",
              "1           1475  ...  2014\n",
              "2           3181  ...  2014\n",
              "3           3182  ...  2014\n",
              "4           1400  ...  2014\n",
              "5           1476  ...  2014\n",
              "6           3185  ...  2014\n",
              "7           3186  ...  2014\n",
              "8           3187  ...  2014\n",
              "9           1543  ...  2014\n",
              "10          1548  ...  2014\n",
              "11          2276  ...  2014\n",
              "12          2275  ...  2014\n",
              "13          3189  ...  2014\n",
              "14          1546  ...  2014\n",
              "\n",
              "[15 rows x 12 columns]"
            ]
          },
          "metadata": {
            "tags": []
          },
          "execution_count": 145
        }
      ]
    },
    {
      "cell_type": "markdown",
      "metadata": {
        "id": "iDivqo-ztRe5"
      },
      "source": [
        "**According to the Minnesota Department of Health, natural processes can cause low levels of nitrate in drinking water—usually less than 3 mg/L. Thus any level of nitrate above 3 mg/L displays evidence of pollution through human activity.**"
      ]
    },
    {
      "cell_type": "code",
      "metadata": {
        "id": "L8CjyKVen5ha",
        "colab": {
          "base_uri": "https://localhost:8080/",
          "height": 419
        },
        "outputId": "71748b67-59ec-4a9b-c60f-d136a1824aff"
      },
      "source": [
        "df1 = df[[\"LOCATIONS\",\"STATE\",\"NITRATE_LEVEL\"]]\n",
        "df_pollution_nitrate = df1.loc[df['NITRATE_LEVEL']>3]\n",
        "df_pollution_nitrate\n"
      ],
      "execution_count": null,
      "outputs": [
        {
          "output_type": "execute_result",
          "data": {
            "text/html": [
              "<div>\n",
              "<style scoped>\n",
              "    .dataframe tbody tr th:only-of-type {\n",
              "        vertical-align: middle;\n",
              "    }\n",
              "\n",
              "    .dataframe tbody tr th {\n",
              "        vertical-align: top;\n",
              "    }\n",
              "\n",
              "    .dataframe thead th {\n",
              "        text-align: right;\n",
              "    }\n",
              "</style>\n",
              "<table border=\"1\" class=\"dataframe\">\n",
              "  <thead>\n",
              "    <tr style=\"text-align: right;\">\n",
              "      <th></th>\n",
              "      <th>LOCATIONS</th>\n",
              "      <th>STATE</th>\n",
              "      <th>NITRATE_LEVEL</th>\n",
              "    </tr>\n",
              "  </thead>\n",
              "  <tbody>\n",
              "    <tr>\n",
              "      <th>130</th>\n",
              "      <td>KALI AT D/S WEST COAST PAPER MILL, KARNATAKA</td>\n",
              "      <td>KARNATAKA</td>\n",
              "      <td>3.40</td>\n",
              "    </tr>\n",
              "    <tr>\n",
              "      <th>158</th>\n",
              "      <td>GHAGGAR AT MUBARAKPUR REST HOUSE (PATIALA), PU...</td>\n",
              "      <td>PUNJAB</td>\n",
              "      <td>4.30</td>\n",
              "    </tr>\n",
              "    <tr>\n",
              "      <th>159</th>\n",
              "      <td>GHAGGAR AT 100M D/S CONF. WITH R. SARASWATI (P...</td>\n",
              "      <td>PUNJAB</td>\n",
              "      <td>3.60</td>\n",
              "    </tr>\n",
              "    <tr>\n",
              "      <th>160</th>\n",
              "      <td>GHAGGAR NEAR BANKARPUR,DERA BASSI,PUNJAB</td>\n",
              "      <td>PUNJAB</td>\n",
              "      <td>5.00</td>\n",
              "    </tr>\n",
              "    <tr>\n",
              "      <th>161</th>\n",
              "      <td>GHAGGAR AT RATANHERI, D/S OF PATIALA NADI (AFT...</td>\n",
              "      <td>PUNJAB</td>\n",
              "      <td>5.90</td>\n",
              "    </tr>\n",
              "    <tr>\n",
              "      <th>...</th>\n",
              "      <td>...</td>\n",
              "      <td>...</td>\n",
              "      <td>...</td>\n",
              "    </tr>\n",
              "    <tr>\n",
              "      <th>864</th>\n",
              "      <td>GHAGGAR AT MOONAK, PUNJAB</td>\n",
              "      <td>PUNJAB</td>\n",
              "      <td>15.80</td>\n",
              "    </tr>\n",
              "    <tr>\n",
              "      <th>865</th>\n",
              "      <td>GHAGGAR AT D/S SARDULGARH</td>\n",
              "      <td>PUNJAB</td>\n",
              "      <td>12.15</td>\n",
              "    </tr>\n",
              "    <tr>\n",
              "      <th>866</th>\n",
              "      <td>GHAGGAR AT U/S SARDULGARH</td>\n",
              "      <td>PUNJAB</td>\n",
              "      <td>8.30</td>\n",
              "    </tr>\n",
              "    <tr>\n",
              "      <th>885</th>\n",
              "      <td>DAMANGANGA AT ZARI CAUSE WAY BRIDGE, DAMAN</td>\n",
              "      <td>DAMAN &amp; DIU</td>\n",
              "      <td>18.73</td>\n",
              "    </tr>\n",
              "    <tr>\n",
              "      <th>892</th>\n",
              "      <td>SIMSANG RIVER WILLIAMNAGAR</td>\n",
              "      <td>MIZORAM</td>\n",
              "      <td>3.55</td>\n",
              "    </tr>\n",
              "  </tbody>\n",
              "</table>\n",
              "<p>135 rows × 3 columns</p>\n",
              "</div>"
            ],
            "text/plain": [
              "                                             LOCATIONS  ... NITRATE_LEVEL\n",
              "130       KALI AT D/S WEST COAST PAPER MILL, KARNATAKA  ...          3.40\n",
              "158  GHAGGAR AT MUBARAKPUR REST HOUSE (PATIALA), PU...  ...          4.30\n",
              "159  GHAGGAR AT 100M D/S CONF. WITH R. SARASWATI (P...  ...          3.60\n",
              "160           GHAGGAR NEAR BANKARPUR,DERA BASSI,PUNJAB  ...          5.00\n",
              "161  GHAGGAR AT RATANHERI, D/S OF PATIALA NADI (AFT...  ...          5.90\n",
              "..                                                 ...  ...           ...\n",
              "864                          GHAGGAR AT MOONAK, PUNJAB  ...         15.80\n",
              "865                          GHAGGAR AT D/S SARDULGARH  ...         12.15\n",
              "866                          GHAGGAR AT U/S SARDULGARH  ...          8.30\n",
              "885        DAMANGANGA AT ZARI CAUSE WAY BRIDGE, DAMAN   ...         18.73\n",
              "892                         SIMSANG RIVER WILLIAMNAGAR  ...          3.55\n",
              "\n",
              "[135 rows x 3 columns]"
            ]
          },
          "metadata": {
            "tags": []
          },
          "execution_count": 146
        }
      ]
    },
    {
      "cell_type": "code",
      "metadata": {
        "id": "GTWJC59_wbyD",
        "colab": {
          "base_uri": "https://localhost:8080/"
        },
        "outputId": "0b8cd8d2-8b16-4398-ac34-d704be04599d"
      },
      "source": [
        "groups_pollution = df_pollution_nitrate.groupby(\"STATE\", sort=True)['NITRATE_LEVEL'].count()\n",
        "groups_pollution"
      ],
      "execution_count": null,
      "outputs": [
        {
          "output_type": "execute_result",
          "data": {
            "text/plain": [
              "STATE\n",
              "DAMAN & DIU                        1\n",
              "DAMAN, DIU, DADRA NAGAR HAVELI     1\n",
              "GUJARAT                            4\n",
              "HARYANA                            3\n",
              "HIMACHAL PRADESH                   1\n",
              "KARNATAKA                          1\n",
              "KERALA                             3\n",
              "MAHARASHTRA                       12\n",
              "MEGHALAYA                         61\n",
              "MIZORAM                            1\n",
              "PUNJAB                            46\n",
              "TAMILNADU                          1\n",
              "Name: NITRATE_LEVEL, dtype: int64"
            ]
          },
          "metadata": {
            "tags": []
          },
          "execution_count": 147
        }
      ]
    },
    {
      "cell_type": "code",
      "metadata": {
        "id": "_ecYKVXByljj",
        "colab": {
          "base_uri": "https://localhost:8080/",
          "height": 482
        },
        "outputId": "7a3dd1fb-7df0-4969-da21-441df2c4088f"
      },
      "source": [
        "bar_graph1=groups_pollution.plot(kind='bar',title='NITRATE LEVEL ANALYSIS',xlabel='STATE',ylabel='NUMBER OF WATER BODIES WITH HIGH NITRATE LEVELS',color='red')"
      ],
      "execution_count": null,
      "outputs": [
        {
          "output_type": "display_data",
          "data": {
            "image/png": "[encoded data removed]",
            "text/plain": [
              "<Figure size 432x288 with 1 Axes>"
            ]
          },
          "metadata": {
            "tags": [],
            "needs_background": "light"
          }
        }
      ]
    },
    {
      "cell_type": "markdown",
      "metadata": {
        "id": "VS4jySM85ceL"
      },
      "source": [
        "**Another way of analyzing pollution in the water bodies is to further assess the level of fecal coliform in the waters. The presence of fecal coliform bacteria in aquatic environments indicates that the water has been contaminated with the fecal material of man or other animals.  Thus encroachment of the aquatic habitat by man can be analyzed through this parameter**"
      ]
    },
    {
      "cell_type": "markdown",
      "metadata": {
        "id": "_gZQbkGLbXt1"
      },
      "source": [
        "**Since all the bodies of water contain fecal coliform levels, we can determine which body of water has the highest level of fecal coliform and analyze its growth over a period of time**"
      ]
    },
    {
      "cell_type": "code",
      "metadata": {
        "id": "RxxTfoiP7SWX",
        "colab": {
          "base_uri": "https://localhost:8080/",
          "height": 142
        },
        "outputId": "d2c134cc-d740-466c-fdfc-1787bfbc3200"
      },
      "source": [
        "df2 = df[[\"LOCATIONS\",\"STATE\",\"FECAL_COLIFORM\",\"YEAR\"]]\n",
        "location_of_max_fecal = df2.loc[df2[\"FECAL_COLIFORM\"] == df2[\"FECAL_COLIFORM\"].max(), \"LOCATIONS\"]\n",
        "fecal_levels_over_years = df2.loc[df2[\"LOCATIONS\"].isin(location_of_max_fecal)]\n",
        "fecal_levels_over_years"
      ],
      "execution_count": null,
      "outputs": [
        {
          "output_type": "execute_result",
          "data": {
            "text/html": [
              "<div>\n",
              "<style scoped>\n",
              "    .dataframe tbody tr th:only-of-type {\n",
              "        vertical-align: middle;\n",
              "    }\n",
              "\n",
              "    .dataframe tbody tr th {\n",
              "        vertical-align: top;\n",
              "    }\n",
              "\n",
              "    .dataframe thead th {\n",
              "        text-align: right;\n",
              "    }\n",
              "</style>\n",
              "<table border=\"1\" class=\"dataframe\">\n",
              "  <thead>\n",
              "    <tr style=\"text-align: right;\">\n",
              "      <th></th>\n",
              "      <th>LOCATIONS</th>\n",
              "      <th>STATE</th>\n",
              "      <th>FECAL_COLIFORM</th>\n",
              "      <th>YEAR</th>\n",
              "    </tr>\n",
              "  </thead>\n",
              "  <tbody>\n",
              "    <tr>\n",
              "      <th>157</th>\n",
              "      <td>VASISTA AT SALEM, D/S OF SAGO INDUSRIES EFFLUENT</td>\n",
              "      <td>TAMILNADU</td>\n",
              "      <td>272521616</td>\n",
              "      <td>2014</td>\n",
              "    </tr>\n",
              "    <tr>\n",
              "      <th>394</th>\n",
              "      <td>VASISTA AT SALEM, D/S OF SAGO INDUSRIES EFFLUENT</td>\n",
              "      <td>TAMILNADU</td>\n",
              "      <td>148825783</td>\n",
              "      <td>2013</td>\n",
              "    </tr>\n",
              "    <tr>\n",
              "      <th>638</th>\n",
              "      <td>VASISTA AT SALEM, D/S OF SAGO INDUSRIES EFFLUENT</td>\n",
              "      <td>TAMILNADU</td>\n",
              "      <td>180000000</td>\n",
              "      <td>2012</td>\n",
              "    </tr>\n",
              "  </tbody>\n",
              "</table>\n",
              "</div>"
            ],
            "text/plain": [
              "                                            LOCATIONS  ...  YEAR\n",
              "157  VASISTA AT SALEM, D/S OF SAGO INDUSRIES EFFLUENT  ...  2014\n",
              "394  VASISTA AT SALEM, D/S OF SAGO INDUSRIES EFFLUENT  ...  2013\n",
              "638  VASISTA AT SALEM, D/S OF SAGO INDUSRIES EFFLUENT  ...  2012\n",
              "\n",
              "[3 rows x 4 columns]"
            ]
          },
          "metadata": {
            "tags": []
          },
          "execution_count": 177
        }
      ]
    },
    {
      "cell_type": "code",
      "metadata": {
        "id": "9l-cU68Gpbby",
        "colab": {
          "base_uri": "https://localhost:8080/",
          "height": 111
        },
        "outputId": "1f02861f-e213-4337-e0b2-229dbf6ecba0"
      },
      "source": [
        "mean_fecal_level = fecal_levels_over_years.groupby(\"LOCATIONS\").mean()\n",
        "mean_fecal_level = mean_fecal_level.rename(columns={\"FECAL_COLIFORM\":\"AVERAGE FECAL COLIFORM LEVELS\"})\n",
        "mean_fecal_level"
      ],
      "execution_count": null,
      "outputs": [
        {
          "output_type": "execute_result",
          "data": {
            "text/html": [
              "<div>\n",
              "<style scoped>\n",
              "    .dataframe tbody tr th:only-of-type {\n",
              "        vertical-align: middle;\n",
              "    }\n",
              "\n",
              "    .dataframe tbody tr th {\n",
              "        vertical-align: top;\n",
              "    }\n",
              "\n",
              "    .dataframe thead th {\n",
              "        text-align: right;\n",
              "    }\n",
              "</style>\n",
              "<table border=\"1\" class=\"dataframe\">\n",
              "  <thead>\n",
              "    <tr style=\"text-align: right;\">\n",
              "      <th></th>\n",
              "      <th>AVERAGE FECAL COLIFORM LEVELS</th>\n",
              "    </tr>\n",
              "    <tr>\n",
              "      <th>LOCATIONS</th>\n",
              "      <th></th>\n",
              "    </tr>\n",
              "  </thead>\n",
              "  <tbody>\n",
              "    <tr>\n",
              "      <th>VASISTA AT SALEM, D/S OF SAGO INDUSRIES EFFLUENT</th>\n",
              "      <td>200449133</td>\n",
              "    </tr>\n",
              "  </tbody>\n",
              "</table>\n",
              "</div>"
            ],
            "text/plain": [
              "                                                  AVERAGE FECAL COLIFORM LEVELS\n",
              "LOCATIONS                                                                      \n",
              "VASISTA AT SALEM, D/S OF SAGO INDUSRIES EFFLUENT                      200449133"
            ]
          },
          "metadata": {
            "tags": []
          },
          "execution_count": 199
        }
      ]
    },
    {
      "cell_type": "code",
      "metadata": {
        "id": "_MgYTfgVb-PZ",
        "colab": {
          "base_uri": "https://localhost:8080/",
          "height": 452
        },
        "outputId": "49472478-3ad7-4859-eaa7-d744a6ac2561"
      },
      "source": [
        "fecal_levels_over_years['YEAR'] = pd.to_datetime(fecal_levels_over_years['YEAR'], format='%Y')\n",
        "fecal_levels_over_years.plot( x = \"YEAR\", kind=\"line\", style='.-', figsize = (10,5), legend = True, color='brown')\n",
        "plt.ticklabel_format(style=\"plain\", axis=\"y\")\n",
        "plt.xlabel(\"YEAR\")\n",
        "plt.ylabel(\"FECAL COLIFORM LEVELS\")\n",
        "plt.title(\"VASISTA AT SALEM, TAMILNADU\")\n",
        "plt.show()\n",
        "\n"
      ],
      "execution_count": null,
      "outputs": [
        {
          "output_type": "stream",
          "text": [
            "/usr/local/lib/python3.6/dist-packages/ipykernel_launcher.py:1: SettingWithCopyWarning: \n",
            "A value is trying to be set on a copy of a slice from a DataFrame.\n",
            "Try using .loc[row_indexer,col_indexer] = value instead\n",
            "\n",
            "See the caveats in the documentation: https://pandas.pydata.org/pandas-docs/stable/user_guide/indexing.html#returning-a-view-versus-a-copy\n",
            "  \"\"\"Entry point for launching an IPython kernel.\n"
          ],
          "name": "stderr"
        },
        {
          "output_type": "display_data",
          "data": {
            "image/png": "[encoded data removed]",
            "text/plain": [
              "<Figure size 720x360 with 1 Axes>"
            ]
          },
          "metadata": {
            "tags": [],
            "needs_background": "light"
          }
        }
      ]
    },
    {
      "cell_type": "markdown",
      "metadata": {
        "id": "juvgS5foh0Hv"
      },
      "source": [
        "**Lastly, we can determine the pollution levels of the water bodies by analyzing the conductivity levels. The causes of high conductivity is the presence inorganic dissolved solids such as chloride, nitrate, sulfate phosphate anions, etc. Thus by exploiting the water bodies as chemical dumps, human activity plays a key pollutant.**"
      ]
    },
    {
      "cell_type": "markdown",
      "metadata": {
        "id": "oG-2DHPlofIz"
      },
      "source": [
        "**According to the United States Environmental Agency, any water body with conductivity levels higher than 10,000 is evident that it is industrial waters with high level of human contamination**"
      ]
    },
    {
      "cell_type": "code",
      "metadata": {
        "id": "PbGQN_WQn6X2",
        "colab": {
          "base_uri": "https://localhost:8080/",
          "height": 419
        },
        "outputId": "1a2ed8b0-b564-4669-cbff-fcbe0ddda55f"
      },
      "source": [
        "df3 = df[[\"LOCATIONS\",\"STATE\",\"CONDUCTIVITY\"]]"
      ],
      "execution_count": null,
      "outputs": [
        {
          "output_type": "execute_result",
          "data": {
            "text/html": [
              "<div>\n",
              "<style scoped>\n",
              "    .dataframe tbody tr th:only-of-type {\n",
              "        vertical-align: middle;\n",
              "    }\n",
              "\n",
              "    .dataframe tbody tr th {\n",
              "        vertical-align: top;\n",
              "    }\n",
              "\n",
              "    .dataframe thead th {\n",
              "        text-align: right;\n",
              "    }\n",
              "</style>\n",
              "<table border=\"1\" class=\"dataframe\">\n",
              "  <thead>\n",
              "    <tr style=\"text-align: right;\">\n",
              "      <th></th>\n",
              "      <th>LOCATIONS</th>\n",
              "      <th>STATE</th>\n",
              "      <th>CONDUCTIVITY</th>\n",
              "    </tr>\n",
              "  </thead>\n",
              "  <tbody>\n",
              "    <tr>\n",
              "      <th>0</th>\n",
              "      <td>ZUARI AT D/S OF PT. WHERE KUMBARJRIA CANAL JOI...</td>\n",
              "      <td>GOA</td>\n",
              "      <td>189</td>\n",
              "    </tr>\n",
              "    <tr>\n",
              "      <th>1</th>\n",
              "      <td>ZUARI AT PANCHAWADI</td>\n",
              "      <td>GOA</td>\n",
              "      <td>179</td>\n",
              "    </tr>\n",
              "    <tr>\n",
              "      <th>2</th>\n",
              "      <td>RIVER ZUARI AT BORIM BRIDGE</td>\n",
              "      <td>GOA</td>\n",
              "      <td>64</td>\n",
              "    </tr>\n",
              "    <tr>\n",
              "      <th>3</th>\n",
              "      <td>RIVER ZUARI AT MARCAIM JETTY</td>\n",
              "      <td>GOA</td>\n",
              "      <td>83</td>\n",
              "    </tr>\n",
              "    <tr>\n",
              "      <th>4</th>\n",
              "      <td>MANDOVI AT NEGHBOURHOOD OF PANAJI, GOA</td>\n",
              "      <td>GOA</td>\n",
              "      <td>81</td>\n",
              "    </tr>\n",
              "    <tr>\n",
              "      <th>...</th>\n",
              "      <td>...</td>\n",
              "      <td>...</td>\n",
              "      <td>...</td>\n",
              "    </tr>\n",
              "    <tr>\n",
              "      <th>888</th>\n",
              "      <td>RIVER KAVERI ON BRIDGE AT BILLIMORANANVALSAD ROAD</td>\n",
              "      <td>GUJARAT</td>\n",
              "      <td>26600</td>\n",
              "    </tr>\n",
              "    <tr>\n",
              "      <th>889</th>\n",
              "      <td>RIVER DHADAR AT KOTHADA</td>\n",
              "      <td>GUJARAT</td>\n",
              "      <td>938</td>\n",
              "    </tr>\n",
              "    <tr>\n",
              "      <th>890</th>\n",
              "      <td>AMBIKA AT BILIMORA,</td>\n",
              "      <td>GUJARAT</td>\n",
              "      <td>7778</td>\n",
              "    </tr>\n",
              "    <tr>\n",
              "      <th>891</th>\n",
              "      <td>MINDHOLA AT STATE HIGHWAY BRIDGE SACHIN,</td>\n",
              "      <td>GUJARAT</td>\n",
              "      <td>885</td>\n",
              "    </tr>\n",
              "    <tr>\n",
              "      <th>892</th>\n",
              "      <td>SIMSANG RIVER WILLIAMNAGAR</td>\n",
              "      <td>MIZORAM</td>\n",
              "      <td>143</td>\n",
              "    </tr>\n",
              "  </tbody>\n",
              "</table>\n",
              "<p>893 rows × 3 columns</p>\n",
              "</div>"
            ],
            "text/plain": [
              "                                             LOCATIONS    STATE  CONDUCTIVITY\n",
              "0    ZUARI AT D/S OF PT. WHERE KUMBARJRIA CANAL JOI...      GOA           189\n",
              "1                                  ZUARI AT PANCHAWADI      GOA           179\n",
              "2                          RIVER ZUARI AT BORIM BRIDGE      GOA            64\n",
              "3                         RIVER ZUARI AT MARCAIM JETTY      GOA            83\n",
              "4               MANDOVI AT NEGHBOURHOOD OF PANAJI, GOA      GOA            81\n",
              "..                                                 ...      ...           ...\n",
              "888  RIVER KAVERI ON BRIDGE AT BILLIMORANANVALSAD ROAD  GUJARAT         26600\n",
              "889                            RIVER DHADAR AT KOTHADA  GUJARAT           938\n",
              "890                               AMBIKA AT BILIMORA,   GUJARAT          7778\n",
              "891          MINDHOLA AT STATE HIGHWAY BRIDGE SACHIN,   GUJARAT           885\n",
              "892                         SIMSANG RIVER WILLIAMNAGAR  MIZORAM           143\n",
              "\n",
              "[893 rows x 3 columns]"
            ]
          },
          "metadata": {
            "tags": []
          },
          "execution_count": 202
        }
      ]
    },
    {
      "cell_type": "code",
      "metadata": {
        "id": "ECJNsnQkq6ZZ",
        "colab": {
          "base_uri": "https://localhost:8080/"
        },
        "outputId": "0f550da1-edef-414e-d39e-bbfec45e9234"
      },
      "source": [
        "conductivity = df3.loc[df3[\"CONDUCTIVITY\"] > 10000]\n",
        "conductivity_group1 = conductivity.groupby(\"STATE\", sort=True)['CONDUCTIVITY'].count()\n",
        "conductivity_group1"
      ],
      "execution_count": null,
      "outputs": [
        {
          "output_type": "execute_result",
          "data": {
            "text/plain": [
              "STATE\n",
              "DAMAN & DIU                        1\n",
              "DAMAN, DIU, DADRA NAGAR HAVELI     1\n",
              "GUJARAT                            4\n",
              "KERALA                            34\n",
              "MAHARASHTRA                        9\n",
              "ODISHA                             1\n",
              "ORISSA                             3\n",
              "PONDICHERRY                        2\n",
              "Name: CONDUCTIVITY, dtype: int64"
            ]
          },
          "metadata": {
            "tags": []
          },
          "execution_count": 222
        }
      ]
    },
    {
      "cell_type": "code",
      "metadata": {
        "id": "ep-DLcAnsBCG",
        "colab": {
          "base_uri": "https://localhost:8080/",
          "height": 466
        },
        "outputId": "0a5c0ad4-66e3-4c8c-dea4-d3c4f0f877da"
      },
      "source": [
        "bar_graph2=conductivity_group1.plot(kind='bar',title='CONDUCTIVITY LEVEL ANALYSIS',xlabel='STATE',ylabel='NUMBER OF INDUSTRIAL WATER BODIES',color='GOLD')"
      ],
      "execution_count": null,
      "outputs": [
        {
          "output_type": "display_data",
          "data": {
            "image/png": "[encoded data removed]",
            "text/plain": [
              "<Figure size 432x288 with 1 Axes>"
            ]
          },
          "metadata": {
            "tags": [],
            "needs_background": "light"
          }
        }
      ]
    },
    {
      "cell_type": "markdown",
      "metadata": {
        "id": "BAN7wjTUsyyG"
      },
      "source": [
        "**Kerala has the most industrial water bodies in India. With about 34 water bodies with high conductivity levels (more than 10,000), it is evident that the industrial plants present are polluting and encroaching in the aquatic habits surrounding.**"
      ]
    },
    {
      "cell_type": "code",
      "metadata": {
        "id": "T2OvBD5gtmdN",
        "colab": {
          "base_uri": "https://localhost:8080/"
        },
        "outputId": "803b6f66-139b-40f4-bb52-0df90104c495"
      },
      "source": [
        "conductivity_group2 = conductivity.groupby(\"STATE\", sort=True)['CONDUCTIVITY'].mean().round(1)\n",
        "conductivity_group2"
      ],
      "execution_count": null,
      "outputs": [
        {
          "output_type": "execute_result",
          "data": {
            "text/plain": [
              "STATE\n",
              "DAMAN & DIU                       15608.0\n",
              "DAMAN, DIU, DADRA NAGAR HAVELI    23576.0\n",
              "GUJARAT                           23707.2\n",
              "KERALA                            17958.9\n",
              "MAHARASHTRA                       21525.4\n",
              "ODISHA                            25034.0\n",
              "ORISSA                            20306.7\n",
              "PONDICHERRY                       27885.0\n",
              "Name: CONDUCTIVITY, dtype: float64"
            ]
          },
          "metadata": {
            "tags": []
          },
          "execution_count": 226
        }
      ]
    },
    {
      "cell_type": "code",
      "metadata": {
        "id": "n-aawZG8uOEx",
        "colab": {
          "base_uri": "https://localhost:8080/",
          "height": 281
        },
        "outputId": "9ca022b5-f453-44bd-c8e4-8fe416194ee8"
      },
      "source": [
        "bar_graph3=conductivity_group2.plot(kind='barh',title='CONDUCTIVITY LEVEL ANALYSIS',xlabel='STATE',ylabel=' AVERAGE CONDUCTIVITY LEVELS',color='ORANGE')"
      ],
      "execution_count": null,
      "outputs": [
        {
          "output_type": "display_data",
          "data": {
            "image/png": "[encoded data removed]",
            "text/plain": [
              "<Figure size 432x288 with 1 Axes>"
            ]
          },
          "metadata": {
            "tags": [],
            "needs_background": "light"
          }
        }
      ]
    },
    {
      "cell_type": "markdown",
      "metadata": {
        "id": "RXqVrhyuvK0B"
      },
      "source": [
        "**We can conclude this conductivity analysis by determining that Pondicherry has the highest average conductivity levels in its water bodies among all the other states. (23,885 µmhos/cm)**"
      ]
    }
  ]
}